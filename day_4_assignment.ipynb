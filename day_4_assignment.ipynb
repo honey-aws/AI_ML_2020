{
 "cells": [
  {
   "cell_type": "markdown",
   "metadata": {},
   "source": [
    "# 1. Coplex numbers"
   ]
  },
  {
   "cell_type": "code",
   "execution_count": 1,
   "metadata": {},
   "outputs": [
    {
     "name": "stdout",
     "output_type": "stream",
     "text": [
      "addition= (4+6j)\n",
      "subtraction= (-2-2j)\n",
      "multiplication= (-5+10j)\n",
      "divison= (0.44+0.08j)\n"
     ]
    }
   ],
   "source": [
    "c= 1+2j\n",
    "c1= 3+4j\n",
    "print('addition=',c+c1)\n",
    "print('subtraction=', c-c1)\n",
    "print('multiplication=', c*c1)\n",
    "print('divison=', c/c1)"
   ]
  },
  {
   "cell_type": "markdown",
   "metadata": {},
   "source": [
    "# 2. About range() in python\n",
    "\n",
    "\n",
    "1) Range() function is a utility function to generate the list of numbers.the list of nubers generated is useful for interation logic.\n",
    "\n",
    "2) range() function does not return a list, rather it acts like a list.\n",
    "\n",
    "Basic structure of python range() is given below:\n",
    "\n",
    "a) range(n) : this will generate a list of numbers from 0 to n-1.\n",
    "\n",
    "b) range(a,b) : this will generate a list of numbers from a to b-1.\n",
    "\n",
    "c) range(a,b,c) : this will generate a list of numbers from a to b-1, where step size is 'c'.\n"
   ]
  },
  {
   "cell_type": "code",
   "execution_count": 79,
   "metadata": {},
   "outputs": [
    {
     "name": "stdout",
     "output_type": "stream",
     "text": [
      "0\n",
      "1\n",
      "2\n",
      "3\n",
      "4\n",
      "second range: 2\n",
      "second range: 3\n",
      "second range: 4\n",
      "second range: 5\n",
      "second range: 6\n",
      "second range: 7\n",
      "second range: 8\n",
      "thrid range: 2\n",
      "thrid range: 5\n",
      "thrid range: 8\n"
     ]
    }
   ],
   "source": [
    "#example program of range()\n",
    "x= range(5)\n",
    "for i in x:\n",
    "    print(i)\n",
    "    \n",
    "\n",
    "y= range(2,9)\n",
    "for j in y:\n",
    "    print(\"second range:\", j)\n",
    "    \n",
    "z= range(2,10,3)\n",
    "for k in z:\n",
    "    print(\"thrid range:\", k)"
   ]
  },
  {
   "cell_type": "markdown",
   "metadata": {},
   "source": [
    "# 3.Perform substraction"
   ]
  },
  {
   "cell_type": "code",
   "execution_count": null,
   "metadata": {},
   "outputs": [],
   "source": [
    "a=int(input(\"enter the 1st number:\" ))\n",
    "b=int(input(\"enter the second number:\"))\n",
    "\n",
    "c=a-b\n",
    "\n",
    "if(c>=25):\n",
    "    print(\"multiplication:\", a*b)\n",
    "    \n",
    "else:\n",
    "    print('division:', a/b)\n",
    " \n",
    "\n"
   ]
  },
  {
   "cell_type": "markdown",
   "metadata": {},
   "source": [
    "# 4. Consider a list of 10 elements of integer values. If the number in the list is divisible by 2, print the result as \"square of that number minus 2\"."
   ]
  },
  {
   "cell_type": "code",
   "execution_count": 71,
   "metadata": {},
   "outputs": [
    {
     "name": "stdout",
     "output_type": "stream",
     "text": [
      "length of list: 9\n",
      "2\n",
      "14\n",
      "34\n",
      "1934\n",
      "3134\n"
     ]
    }
   ],
   "source": [
    "init_list=[1,2,4,5,6,7,5,44,56]\n",
    "length=len(init_list)\n",
    "print(\"length of list:\",length)\n",
    "\n",
    "for i in range(length):\n",
    "    r=init_list[i]%2\n",
    "    if(r==0):\n",
    "        result = (init_list[i]**2)-2\n",
    "        print(result)\n",
    "   # i+1\n",
    "        #print(\"result:\", (init_list[i]**2)-2)\n",
    "      \n",
    "       \n",
    "    \n",
    "        "
   ]
  },
  {
   "cell_type": "markdown",
   "metadata": {},
   "source": [
    "# 5. Consider a list of 10 elements. Print all the elements in the list which are greater than 7 when that number is divided 2."
   ]
  },
  {
   "cell_type": "code",
   "execution_count": 66,
   "metadata": {},
   "outputs": [
    {
     "name": "stdout",
     "output_type": "stream",
     "text": [
      "length of list: 14\n",
      "24\n",
      "34\n",
      "46\n",
      "36\n",
      "88\n",
      "42\n",
      "100\n",
      "120\n",
      "32\n",
      "20\n"
     ]
    }
   ],
   "source": [
    "list1 = [24,34,45,46,12,36,88,6,42,100,120,32,5,20]\n",
    "#list1 = [24,32,26,45]\n",
    "length = len(list1) \n",
    "print(\"length of list:\", length)\n",
    "\n",
    "for i in range(length):\n",
    "    q=list1[i]/2\n",
    "    r=list1[i]%2\n",
    "    if(r==0):\n",
    "        if(q>=7):\n",
    "            print(list1[i])\n",
    "        \n"
   ]
  },
  {
   "cell_type": "code",
   "execution_count": null,
   "metadata": {},
   "outputs": [],
   "source": []
  }
 ],
 "metadata": {
  "kernelspec": {
   "display_name": "Python 3",
   "language": "python",
   "name": "python3"
  },
  "language_info": {
   "codemirror_mode": {
    "name": "ipython",
    "version": 3
   },
   "file_extension": ".py",
   "mimetype": "text/x-python",
   "name": "python",
   "nbconvert_exporter": "python",
   "pygments_lexer": "ipython3",
   "version": "3.7.6"
  }
 },
 "nbformat": 4,
 "nbformat_minor": 4
}
